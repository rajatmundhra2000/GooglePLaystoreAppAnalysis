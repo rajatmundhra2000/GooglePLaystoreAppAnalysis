{
  "nbformat": 4,
  "nbformat_minor": 0,
  "metadata": {
    "colab": {
      "name": "GooglePlaystrore.ipynb",
      "provenance": [],
      "collapsed_sections": [
        "BMsyXvxOzZaO",
        "zH0GITlP79Jk",
        "ONJfxrkglhg4",
        "B27HqnhCPipG",
        "i_r-yl_jRsxJ"
      ]
    },
    "kernelspec": {
      "display_name": "Python 3",
      "name": "python3"
    },
    "language_info": {
      "name": "python"
    }
  },
  "cells": [
    {
      "cell_type": "markdown",
      "metadata": {
        "id": "F7vlaHlZ6zU0"
      },
      "source": [
        "####**Problem Definition**:\n",
        "> To analyse the data based on Google App Store\n"
      ]
    },
    {
      "cell_type": "markdown",
      "metadata": {
        "id": "oZWOpS0K7skl"
      },
      "source": [
        "####**Data:**\n",
        "> This dataset contains information about apps from Google Play Store.\n",
        "\n",
        "The dataset have been downloaded from Kaggle\n",
        "\n"
      ]
    },
    {
      "cell_type": "markdown",
      "metadata": {
        "id": "7JIxVj2U9Bf-"
      },
      "source": [
        "####**Features:**\n",
        "\n",
        "\n",
        "*     App : Application name\n",
        "*Category : Category the app belongs to\n",
        "*Rating   : Overall user rating of the app (as when scraped)\n",
        "*Reviews  : Number of user reviews for the app (as when scraped)\n",
        "*Size: Size of the app (as when scraped)\n",
        "*Installs : Number of user downloads/installs for the app (as when scraped)\n",
        "*Type : Paid or Free\n",
        "*Price : Price of the app (as when scraped)\n",
        "*Content Rating : Age group the app is targeted at \n",
        "*Genres : An app can belong to multiple genres (apart from its main category)\n",
        "*Last Updated : Time when it was last updated\n",
        "*Current Ver : Current version of the app\n",
        "*Android Ver : Android version of the app\n",
        "   \n",
        "\n"
      ]
    },
    {
      "cell_type": "markdown",
      "metadata": {
        "id": "aNKvKDwT9Fu_"
      },
      "source": [
        "####**Task:**\n",
        "\n",
        "\n",
        "\n",
        "\n",
        "*   Task 1 : To find App with large number of reviews\n",
        "*   Task 2 : To find the App with the largest number of installs\n",
        "*   Task 3 : To find the most popular category\n",
        "*   Task 4 : To visualize the percentage of Free Vs Paid apps\n",
        "*   Task 5 : Visualisation Of Android Versions Used Across App\n"
      ]
    },
    {
      "cell_type": "markdown",
      "metadata": {
        "id": "PYSD-pJVMNjv"
      },
      "source": [
        "### **Importing Libraries**"
      ]
    },
    {
      "cell_type": "code",
      "metadata": {
        "id": "SbSF2HaYzNoB"
      },
      "source": [
        "import pandas as pd\n",
        "import seaborn as sns\n",
        "import matplotlib.pyplot as plt\n",
        "import numpy as np\n",
        "%matplotlib inline"
      ],
      "execution_count": 189,
      "outputs": []
    },
    {
      "cell_type": "markdown",
      "metadata": {
        "id": "mFqZwHVizoGH"
      },
      "source": [
        "###**Read Data**\n"
      ]
    },
    {
      "cell_type": "code",
      "metadata": {
        "id": "Rqdh1yeMzhQS",
        "colab": {
          "base_uri": "https://localhost:8080/"
        },
        "outputId": "60356d4c-f917-44d4-9cf2-70775d20c48b"
      },
      "source": [
        " from google.colab import drive\n",
        "drive.mount('/content/drive/')"
      ],
      "execution_count": 190,
      "outputs": [
        {
          "output_type": "stream",
          "text": [
            "Drive already mounted at /content/drive/; to attempt to forcibly remount, call drive.mount(\"/content/drive/\", force_remount=True).\n"
          ],
          "name": "stdout"
        }
      ]
    },
    {
      "cell_type": "code",
      "metadata": {
        "id": "ovX5eIuyzySm"
      },
      "source": [
        "data=pd.read_csv('/content/drive/MyDrive/Colab Notebooks/Data Anaysis/GoogleRating/googleplaystore.csv')"
      ],
      "execution_count": 191,
      "outputs": []
    },
    {
      "cell_type": "code",
      "metadata": {
        "id": "pn55fHsK8iaF",
        "colab": {
          "base_uri": "https://localhost:8080/",
          "height": 0
        },
        "outputId": "2cb9acdb-5c2b-4875-91f4-46358cd8c334"
      },
      "source": [
        "data.head()"
      ],
      "execution_count": 192,
      "outputs": [
        {
          "output_type": "execute_result",
          "data": {
            "text/html": [
              "<div>\n",
              "<style scoped>\n",
              "    .dataframe tbody tr th:only-of-type {\n",
              "        vertical-align: middle;\n",
              "    }\n",
              "\n",
              "    .dataframe tbody tr th {\n",
              "        vertical-align: top;\n",
              "    }\n",
              "\n",
              "    .dataframe thead th {\n",
              "        text-align: right;\n",
              "    }\n",
              "</style>\n",
              "<table border=\"1\" class=\"dataframe\">\n",
              "  <thead>\n",
              "    <tr style=\"text-align: right;\">\n",
              "      <th></th>\n",
              "      <th>App</th>\n",
              "      <th>Category</th>\n",
              "      <th>Rating</th>\n",
              "      <th>Reviews</th>\n",
              "      <th>Size</th>\n",
              "      <th>Installs</th>\n",
              "      <th>Type</th>\n",
              "      <th>Price</th>\n",
              "      <th>Content Rating</th>\n",
              "      <th>Genres</th>\n",
              "      <th>Last Updated</th>\n",
              "      <th>Current Ver</th>\n",
              "      <th>Android Ver</th>\n",
              "    </tr>\n",
              "  </thead>\n",
              "  <tbody>\n",
              "    <tr>\n",
              "      <th>0</th>\n",
              "      <td>Photo Editor &amp; Candy Camera &amp; Grid &amp; ScrapBook</td>\n",
              "      <td>ART_AND_DESIGN</td>\n",
              "      <td>4.1</td>\n",
              "      <td>159</td>\n",
              "      <td>19M</td>\n",
              "      <td>10,000+</td>\n",
              "      <td>Free</td>\n",
              "      <td>0</td>\n",
              "      <td>Everyone</td>\n",
              "      <td>Art &amp; Design</td>\n",
              "      <td>January 7, 2018</td>\n",
              "      <td>1.0.0</td>\n",
              "      <td>4.0.3 and up</td>\n",
              "    </tr>\n",
              "    <tr>\n",
              "      <th>1</th>\n",
              "      <td>Coloring book moana</td>\n",
              "      <td>ART_AND_DESIGN</td>\n",
              "      <td>3.9</td>\n",
              "      <td>967</td>\n",
              "      <td>14M</td>\n",
              "      <td>500,000+</td>\n",
              "      <td>Free</td>\n",
              "      <td>0</td>\n",
              "      <td>Everyone</td>\n",
              "      <td>Art &amp; Design;Pretend Play</td>\n",
              "      <td>January 15, 2018</td>\n",
              "      <td>2.0.0</td>\n",
              "      <td>4.0.3 and up</td>\n",
              "    </tr>\n",
              "    <tr>\n",
              "      <th>2</th>\n",
              "      <td>U Launcher Lite – FREE Live Cool Themes, Hide ...</td>\n",
              "      <td>ART_AND_DESIGN</td>\n",
              "      <td>4.7</td>\n",
              "      <td>87510</td>\n",
              "      <td>8.7M</td>\n",
              "      <td>5,000,000+</td>\n",
              "      <td>Free</td>\n",
              "      <td>0</td>\n",
              "      <td>Everyone</td>\n",
              "      <td>Art &amp; Design</td>\n",
              "      <td>August 1, 2018</td>\n",
              "      <td>1.2.4</td>\n",
              "      <td>4.0.3 and up</td>\n",
              "    </tr>\n",
              "    <tr>\n",
              "      <th>3</th>\n",
              "      <td>Sketch - Draw &amp; Paint</td>\n",
              "      <td>ART_AND_DESIGN</td>\n",
              "      <td>4.5</td>\n",
              "      <td>215644</td>\n",
              "      <td>25M</td>\n",
              "      <td>50,000,000+</td>\n",
              "      <td>Free</td>\n",
              "      <td>0</td>\n",
              "      <td>Teen</td>\n",
              "      <td>Art &amp; Design</td>\n",
              "      <td>June 8, 2018</td>\n",
              "      <td>Varies with device</td>\n",
              "      <td>4.2 and up</td>\n",
              "    </tr>\n",
              "    <tr>\n",
              "      <th>4</th>\n",
              "      <td>Pixel Draw - Number Art Coloring Book</td>\n",
              "      <td>ART_AND_DESIGN</td>\n",
              "      <td>4.3</td>\n",
              "      <td>967</td>\n",
              "      <td>2.8M</td>\n",
              "      <td>100,000+</td>\n",
              "      <td>Free</td>\n",
              "      <td>0</td>\n",
              "      <td>Everyone</td>\n",
              "      <td>Art &amp; Design;Creativity</td>\n",
              "      <td>June 20, 2018</td>\n",
              "      <td>1.1</td>\n",
              "      <td>4.4 and up</td>\n",
              "    </tr>\n",
              "  </tbody>\n",
              "</table>\n",
              "</div>"
            ],
            "text/plain": [
              "                                                 App  ...   Android Ver\n",
              "0     Photo Editor & Candy Camera & Grid & ScrapBook  ...  4.0.3 and up\n",
              "1                                Coloring book moana  ...  4.0.3 and up\n",
              "2  U Launcher Lite – FREE Live Cool Themes, Hide ...  ...  4.0.3 and up\n",
              "3                              Sketch - Draw & Paint  ...    4.2 and up\n",
              "4              Pixel Draw - Number Art Coloring Book  ...    4.4 and up\n",
              "\n",
              "[5 rows x 13 columns]"
            ]
          },
          "metadata": {
            "tags": []
          },
          "execution_count": 192
        }
      ]
    },
    {
      "cell_type": "code",
      "metadata": {
        "id": "5XSCylVa8kvY",
        "colab": {
          "base_uri": "https://localhost:8080/"
        },
        "outputId": "e538151f-aa6a-4d74-fff7-18d32d6eaef0"
      },
      "source": [
        "data.info()"
      ],
      "execution_count": 193,
      "outputs": [
        {
          "output_type": "stream",
          "text": [
            "<class 'pandas.core.frame.DataFrame'>\n",
            "RangeIndex: 10841 entries, 0 to 10840\n",
            "Data columns (total 13 columns):\n",
            " #   Column          Non-Null Count  Dtype  \n",
            "---  ------          --------------  -----  \n",
            " 0   App             10841 non-null  object \n",
            " 1   Category        10841 non-null  object \n",
            " 2   Rating          9367 non-null   float64\n",
            " 3   Reviews         10841 non-null  object \n",
            " 4   Size            10841 non-null  object \n",
            " 5   Installs        10841 non-null  object \n",
            " 6   Type            10840 non-null  object \n",
            " 7   Price           10841 non-null  object \n",
            " 8   Content Rating  10840 non-null  object \n",
            " 9   Genres          10841 non-null  object \n",
            " 10  Last Updated    10841 non-null  object \n",
            " 11  Current Ver     10833 non-null  object \n",
            " 12  Android Ver     10838 non-null  object \n",
            "dtypes: float64(1), object(12)\n",
            "memory usage: 1.1+ MB\n"
          ],
          "name": "stdout"
        }
      ]
    },
    {
      "cell_type": "code",
      "metadata": {
        "id": "2l2HTCQ_8ud3",
        "colab": {
          "base_uri": "https://localhost:8080/",
          "height": 0
        },
        "outputId": "8643fe7e-335d-4878-9468-d865037a2fbc"
      },
      "source": [
        "data.describe()"
      ],
      "execution_count": 194,
      "outputs": [
        {
          "output_type": "execute_result",
          "data": {
            "text/html": [
              "<div>\n",
              "<style scoped>\n",
              "    .dataframe tbody tr th:only-of-type {\n",
              "        vertical-align: middle;\n",
              "    }\n",
              "\n",
              "    .dataframe tbody tr th {\n",
              "        vertical-align: top;\n",
              "    }\n",
              "\n",
              "    .dataframe thead th {\n",
              "        text-align: right;\n",
              "    }\n",
              "</style>\n",
              "<table border=\"1\" class=\"dataframe\">\n",
              "  <thead>\n",
              "    <tr style=\"text-align: right;\">\n",
              "      <th></th>\n",
              "      <th>Rating</th>\n",
              "    </tr>\n",
              "  </thead>\n",
              "  <tbody>\n",
              "    <tr>\n",
              "      <th>count</th>\n",
              "      <td>9367.000000</td>\n",
              "    </tr>\n",
              "    <tr>\n",
              "      <th>mean</th>\n",
              "      <td>4.193338</td>\n",
              "    </tr>\n",
              "    <tr>\n",
              "      <th>std</th>\n",
              "      <td>0.537431</td>\n",
              "    </tr>\n",
              "    <tr>\n",
              "      <th>min</th>\n",
              "      <td>1.000000</td>\n",
              "    </tr>\n",
              "    <tr>\n",
              "      <th>25%</th>\n",
              "      <td>4.000000</td>\n",
              "    </tr>\n",
              "    <tr>\n",
              "      <th>50%</th>\n",
              "      <td>4.300000</td>\n",
              "    </tr>\n",
              "    <tr>\n",
              "      <th>75%</th>\n",
              "      <td>4.500000</td>\n",
              "    </tr>\n",
              "    <tr>\n",
              "      <th>max</th>\n",
              "      <td>19.000000</td>\n",
              "    </tr>\n",
              "  </tbody>\n",
              "</table>\n",
              "</div>"
            ],
            "text/plain": [
              "            Rating\n",
              "count  9367.000000\n",
              "mean      4.193338\n",
              "std       0.537431\n",
              "min       1.000000\n",
              "25%       4.000000\n",
              "50%       4.300000\n",
              "75%       4.500000\n",
              "max      19.000000"
            ]
          },
          "metadata": {
            "tags": []
          },
          "execution_count": 194
        }
      ]
    },
    {
      "cell_type": "code",
      "metadata": {
        "id": "eGIbdJEs8xFl",
        "colab": {
          "base_uri": "https://localhost:8080/"
        },
        "outputId": "f3aa4d74-d36a-4b3b-ea1a-35900f941479"
      },
      "source": [
        "data.isna().sum()"
      ],
      "execution_count": 195,
      "outputs": [
        {
          "output_type": "execute_result",
          "data": {
            "text/plain": [
              "App                  0\n",
              "Category             0\n",
              "Rating            1474\n",
              "Reviews              0\n",
              "Size                 0\n",
              "Installs             0\n",
              "Type                 1\n",
              "Price                0\n",
              "Content Rating       1\n",
              "Genres               0\n",
              "Last Updated         0\n",
              "Current Ver          8\n",
              "Android Ver          3\n",
              "dtype: int64"
            ]
          },
          "metadata": {
            "tags": []
          },
          "execution_count": 195
        }
      ]
    },
    {
      "cell_type": "code",
      "metadata": {
        "colab": {
          "base_uri": "https://localhost:8080/"
        },
        "id": "RoLRJssYNJmD",
        "outputId": "4e7e0795-7d9d-42e6-94f7-e1de3bcb4c2a"
      },
      "source": [
        "data.columns"
      ],
      "execution_count": 196,
      "outputs": [
        {
          "output_type": "execute_result",
          "data": {
            "text/plain": [
              "Index(['App', 'Category', 'Rating', 'Reviews', 'Size', 'Installs', 'Type',\n",
              "       'Price', 'Content Rating', 'Genres', 'Last Updated', 'Current Ver',\n",
              "       'Android Ver'],\n",
              "      dtype='object')"
            ]
          },
          "metadata": {
            "tags": []
          },
          "execution_count": 196
        }
      ]
    },
    {
      "cell_type": "markdown",
      "metadata": {
        "id": "LbBAkTFA9Hv0"
      },
      "source": [
        "###**Data Cleaning**"
      ]
    },
    {
      "cell_type": "code",
      "metadata": {
        "id": "T3tYVaKv80c9",
        "colab": {
          "base_uri": "https://localhost:8080/",
          "height": 0
        },
        "outputId": "39e5e33e-f497-43c3-a837-21574d53a38a"
      },
      "source": [
        "data.hist()"
      ],
      "execution_count": 197,
      "outputs": [
        {
          "output_type": "execute_result",
          "data": {
            "text/plain": [
              "array([[<matplotlib.axes._subplots.AxesSubplot object at 0x7fd557dbbcd0>]],\n",
              "      dtype=object)"
            ]
          },
          "metadata": {
            "tags": []
          },
          "execution_count": 197
        },
        {
          "output_type": "display_data",
          "data": {
            "image/png": "[encoded data removed]",
            "text/plain": [
              "<Figure size 432x288 with 1 Axes>"
            ]
          },
          "metadata": {
            "tags": [],
            "needs_background": "light"
          }
        }
      ]
    },
    {
      "cell_type": "code",
      "metadata": {
        "id": "Ypsvze6r-hZN",
        "colab": {
          "base_uri": "https://localhost:8080/",
          "height": 0
        },
        "outputId": "4c111bc1-5697-40c6-8079-41017d210da6"
      },
      "source": [
        "data.boxplot()"
      ],
      "execution_count": 198,
      "outputs": [
        {
          "output_type": "execute_result",
          "data": {
            "text/plain": [
              "<matplotlib.axes._subplots.AxesSubplot at 0x7fd557d523d0>"
            ]
          },
          "metadata": {
            "tags": []
          },
          "execution_count": 198
        },
        {
          "output_type": "display_data",
          "data": {
            "image/png": "[encoded data removed]",
            "text/plain": [
              "<Figure size 432x288 with 1 Axes>"
            ]
          },
          "metadata": {
            "tags": [],
            "needs_background": "light"
          }
        }
      ]
    },
    {
      "cell_type": "code",
      "metadata": {
        "id": "HxGfGtsB-lIF",
        "colab": {
          "base_uri": "https://localhost:8080/",
          "height": 0
        },
        "outputId": "fe32636c-3bf6-4100-ce15-e036479ee86a"
      },
      "source": [
        "data[data.Rating>5]"
      ],
      "execution_count": 199,
      "outputs": [
        {
          "output_type": "execute_result",
          "data": {
            "text/html": [
              "<div>\n",
              "<style scoped>\n",
              "    .dataframe tbody tr th:only-of-type {\n",
              "        vertical-align: middle;\n",
              "    }\n",
              "\n",
              "    .dataframe tbody tr th {\n",
              "        vertical-align: top;\n",
              "    }\n",
              "\n",
              "    .dataframe thead th {\n",
              "        text-align: right;\n",
              "    }\n",
              "</style>\n",
              "<table border=\"1\" class=\"dataframe\">\n",
              "  <thead>\n",
              "    <tr style=\"text-align: right;\">\n",
              "      <th></th>\n",
              "      <th>App</th>\n",
              "      <th>Category</th>\n",
              "      <th>Rating</th>\n",
              "      <th>Reviews</th>\n",
              "      <th>Size</th>\n",
              "      <th>Installs</th>\n",
              "      <th>Type</th>\n",
              "      <th>Price</th>\n",
              "      <th>Content Rating</th>\n",
              "      <th>Genres</th>\n",
              "      <th>Last Updated</th>\n",
              "      <th>Current Ver</th>\n",
              "      <th>Android Ver</th>\n",
              "    </tr>\n",
              "  </thead>\n",
              "  <tbody>\n",
              "    <tr>\n",
              "      <th>10472</th>\n",
              "      <td>Life Made WI-Fi Touchscreen Photo Frame</td>\n",
              "      <td>1.9</td>\n",
              "      <td>19.0</td>\n",
              "      <td>3.0M</td>\n",
              "      <td>1,000+</td>\n",
              "      <td>Free</td>\n",
              "      <td>0</td>\n",
              "      <td>Everyone</td>\n",
              "      <td>NaN</td>\n",
              "      <td>February 11, 2018</td>\n",
              "      <td>1.0.19</td>\n",
              "      <td>4.0 and up</td>\n",
              "      <td>NaN</td>\n",
              "    </tr>\n",
              "  </tbody>\n",
              "</table>\n",
              "</div>"
            ],
            "text/plain": [
              "                                           App Category  ...  Current Ver Android Ver\n",
              "10472  Life Made WI-Fi Touchscreen Photo Frame      1.9  ...   4.0 and up         NaN\n",
              "\n",
              "[1 rows x 13 columns]"
            ]
          },
          "metadata": {
            "tags": []
          },
          "execution_count": 199
        }
      ]
    },
    {
      "cell_type": "code",
      "metadata": {
        "id": "is7J9Uv1Aned"
      },
      "source": [
        "data.drop([10472],inplace=True)"
      ],
      "execution_count": 200,
      "outputs": []
    },
    {
      "cell_type": "code",
      "metadata": {
        "id": "mtOV3lJZA7uP",
        "colab": {
          "base_uri": "https://localhost:8080/",
          "height": 0
        },
        "outputId": "6ffd653c-2d59-4deb-ee8c-0633cab8f2da"
      },
      "source": [
        "data[10470:10475]"
      ],
      "execution_count": 201,
      "outputs": [
        {
          "output_type": "execute_result",
          "data": {
            "text/html": [
              "<div>\n",
              "<style scoped>\n",
              "    .dataframe tbody tr th:only-of-type {\n",
              "        vertical-align: middle;\n",
              "    }\n",
              "\n",
              "    .dataframe tbody tr th {\n",
              "        vertical-align: top;\n",
              "    }\n",
              "\n",
              "    .dataframe thead th {\n",
              "        text-align: right;\n",
              "    }\n",
              "</style>\n",
              "<table border=\"1\" class=\"dataframe\">\n",
              "  <thead>\n",
              "    <tr style=\"text-align: right;\">\n",
              "      <th></th>\n",
              "      <th>App</th>\n",
              "      <th>Category</th>\n",
              "      <th>Rating</th>\n",
              "      <th>Reviews</th>\n",
              "      <th>Size</th>\n",
              "      <th>Installs</th>\n",
              "      <th>Type</th>\n",
              "      <th>Price</th>\n",
              "      <th>Content Rating</th>\n",
              "      <th>Genres</th>\n",
              "      <th>Last Updated</th>\n",
              "      <th>Current Ver</th>\n",
              "      <th>Android Ver</th>\n",
              "    </tr>\n",
              "  </thead>\n",
              "  <tbody>\n",
              "    <tr>\n",
              "      <th>10470</th>\n",
              "      <td>Jazz Wi-Fi</td>\n",
              "      <td>COMMUNICATION</td>\n",
              "      <td>3.4</td>\n",
              "      <td>49</td>\n",
              "      <td>4.0M</td>\n",
              "      <td>10,000+</td>\n",
              "      <td>Free</td>\n",
              "      <td>0</td>\n",
              "      <td>Everyone</td>\n",
              "      <td>Communication</td>\n",
              "      <td>February 10, 2017</td>\n",
              "      <td>0.1</td>\n",
              "      <td>2.3 and up</td>\n",
              "    </tr>\n",
              "    <tr>\n",
              "      <th>10471</th>\n",
              "      <td>Xposed Wi-Fi-Pwd</td>\n",
              "      <td>PERSONALIZATION</td>\n",
              "      <td>3.5</td>\n",
              "      <td>1042</td>\n",
              "      <td>404k</td>\n",
              "      <td>100,000+</td>\n",
              "      <td>Free</td>\n",
              "      <td>0</td>\n",
              "      <td>Everyone</td>\n",
              "      <td>Personalization</td>\n",
              "      <td>August 5, 2014</td>\n",
              "      <td>3.0.0</td>\n",
              "      <td>4.0.3 and up</td>\n",
              "    </tr>\n",
              "    <tr>\n",
              "      <th>10473</th>\n",
              "      <td>osmino Wi-Fi: free WiFi</td>\n",
              "      <td>TOOLS</td>\n",
              "      <td>4.2</td>\n",
              "      <td>134203</td>\n",
              "      <td>4.1M</td>\n",
              "      <td>10,000,000+</td>\n",
              "      <td>Free</td>\n",
              "      <td>0</td>\n",
              "      <td>Everyone</td>\n",
              "      <td>Tools</td>\n",
              "      <td>August 7, 2018</td>\n",
              "      <td>6.06.14</td>\n",
              "      <td>4.4 and up</td>\n",
              "    </tr>\n",
              "    <tr>\n",
              "      <th>10474</th>\n",
              "      <td>Sat-Fi Voice</td>\n",
              "      <td>COMMUNICATION</td>\n",
              "      <td>3.4</td>\n",
              "      <td>37</td>\n",
              "      <td>14M</td>\n",
              "      <td>1,000+</td>\n",
              "      <td>Free</td>\n",
              "      <td>0</td>\n",
              "      <td>Everyone</td>\n",
              "      <td>Communication</td>\n",
              "      <td>November 21, 2014</td>\n",
              "      <td>2.2.1.5</td>\n",
              "      <td>2.2 and up</td>\n",
              "    </tr>\n",
              "    <tr>\n",
              "      <th>10475</th>\n",
              "      <td>Wi-Fi Visualizer</td>\n",
              "      <td>TOOLS</td>\n",
              "      <td>3.9</td>\n",
              "      <td>132</td>\n",
              "      <td>2.6M</td>\n",
              "      <td>50,000+</td>\n",
              "      <td>Free</td>\n",
              "      <td>0</td>\n",
              "      <td>Everyone</td>\n",
              "      <td>Tools</td>\n",
              "      <td>May 17, 2017</td>\n",
              "      <td>0.0.9</td>\n",
              "      <td>2.3 and up</td>\n",
              "    </tr>\n",
              "  </tbody>\n",
              "</table>\n",
              "</div>"
            ],
            "text/plain": [
              "                           App         Category  ...  Current Ver   Android Ver\n",
              "10470               Jazz Wi-Fi    COMMUNICATION  ...          0.1    2.3 and up\n",
              "10471         Xposed Wi-Fi-Pwd  PERSONALIZATION  ...        3.0.0  4.0.3 and up\n",
              "10473  osmino Wi-Fi: free WiFi            TOOLS  ...      6.06.14    4.4 and up\n",
              "10474             Sat-Fi Voice    COMMUNICATION  ...      2.2.1.5    2.2 and up\n",
              "10475         Wi-Fi Visualizer            TOOLS  ...        0.0.9    2.3 and up\n",
              "\n",
              "[5 rows x 13 columns]"
            ]
          },
          "metadata": {
            "tags": []
          },
          "execution_count": 201
        }
      ]
    },
    {
      "cell_type": "code",
      "metadata": {
        "id": "CwjFFzlVBC2I",
        "colab": {
          "base_uri": "https://localhost:8080/"
        },
        "outputId": "2c867d91-40d9-4331-9e38-487bd50073d7"
      },
      "source": [
        "data.isna().sum()"
      ],
      "execution_count": 202,
      "outputs": [
        {
          "output_type": "execute_result",
          "data": {
            "text/plain": [
              "App                  0\n",
              "Category             0\n",
              "Rating            1474\n",
              "Reviews              0\n",
              "Size                 0\n",
              "Installs             0\n",
              "Type                 1\n",
              "Price                0\n",
              "Content Rating       0\n",
              "Genres               0\n",
              "Last Updated         0\n",
              "Current Ver          8\n",
              "Android Ver          2\n",
              "dtype: int64"
            ]
          },
          "metadata": {
            "tags": []
          },
          "execution_count": 202
        }
      ]
    },
    {
      "cell_type": "code",
      "metadata": {
        "id": "A8hlAv7ZEZfs",
        "colab": {
          "base_uri": "https://localhost:8080/",
          "height": 0
        },
        "outputId": "a3943ad3-fd12-48d2-eb03-d11bd9b9e7ee"
      },
      "source": [
        "data.boxplot()"
      ],
      "execution_count": 203,
      "outputs": [
        {
          "output_type": "execute_result",
          "data": {
            "text/plain": [
              "<matplotlib.axes._subplots.AxesSubplot at 0x7fd557cc2950>"
            ]
          },
          "metadata": {
            "tags": []
          },
          "execution_count": 203
        },
        {
          "output_type": "display_data",
          "data": {
            "image/png": "[encoded data removed]",
            "text/plain": [
              "<Figure size 432x288 with 1 Axes>"
            ]
          },
          "metadata": {
            "tags": [],
            "needs_background": "light"
          }
        }
      ]
    },
    {
      "cell_type": "code",
      "metadata": {
        "id": "4-tn4v3nFkvt",
        "colab": {
          "base_uri": "https://localhost:8080/",
          "height": 0
        },
        "outputId": "60b23f00-77cf-4eba-c5a7-07f6f46fec0d"
      },
      "source": [
        "data.hist()"
      ],
      "execution_count": 204,
      "outputs": [
        {
          "output_type": "execute_result",
          "data": {
            "text/plain": [
              "array([[<matplotlib.axes._subplots.AxesSubplot object at 0x7fd557c383d0>]],\n",
              "      dtype=object)"
            ]
          },
          "metadata": {
            "tags": []
          },
          "execution_count": 204
        },
        {
          "output_type": "display_data",
          "data": {
            "image/png": "[encoded data removed]",
            "text/plain": [
              "<Figure size 432x288 with 1 Axes>"
            ]
          },
          "metadata": {
            "tags": [],
            "needs_background": "light"
          }
        }
      ]
    },
    {
      "cell_type": "code",
      "metadata": {
        "id": "8HuLx-diFmaV",
        "colab": {
          "base_uri": "https://localhost:8080/"
        },
        "outputId": "109847a1-ee83-4abc-9bf9-94385c50c46a"
      },
      "source": [
        "data.columns"
      ],
      "execution_count": 205,
      "outputs": [
        {
          "output_type": "execute_result",
          "data": {
            "text/plain": [
              "Index(['App', 'Category', 'Rating', 'Reviews', 'Size', 'Installs', 'Type',\n",
              "       'Price', 'Content Rating', 'Genres', 'Last Updated', 'Current Ver',\n",
              "       'Android Ver'],\n",
              "      dtype='object')"
            ]
          },
          "metadata": {
            "tags": []
          },
          "execution_count": 205
        }
      ]
    },
    {
      "cell_type": "code",
      "metadata": {
        "id": "2cmTPBF0GIma",
        "colab": {
          "base_uri": "https://localhost:8080/"
        },
        "outputId": "5c657779-e43a-46ca-c991-ec6c4a0d4242"
      },
      "source": [
        "data['Rating'].unique()"
      ],
      "execution_count": 206,
      "outputs": [
        {
          "output_type": "execute_result",
          "data": {
            "text/plain": [
              "array([4.1, 3.9, 4.7, 4.5, 4.3, 4.4, 3.8, 4.2, 4.6, 3.2, 4. , nan, 4.8,\n",
              "       4.9, 3.6, 3.7, 3.3, 3.4, 3.5, 3.1, 5. , 2.6, 3. , 1.9, 2.5, 2.8,\n",
              "       2.7, 1. , 2.9, 2.3, 2.2, 1.7, 2. , 1.8, 2.4, 1.6, 2.1, 1.4, 1.5,\n",
              "       1.2])"
            ]
          },
          "metadata": {
            "tags": []
          },
          "execution_count": 206
        }
      ]
    },
    {
      "cell_type": "code",
      "metadata": {
        "id": "RZ_jfDsijug3"
      },
      "source": [
        "data.fillna(data.median(), inplace=True)"
      ],
      "execution_count": 207,
      "outputs": []
    },
    {
      "cell_type": "code",
      "metadata": {
        "id": "d3S_hgbCHKRv",
        "colab": {
          "base_uri": "https://localhost:8080/"
        },
        "outputId": "b32783ec-2da1-4162-92b2-e59fb3ab96c2"
      },
      "source": [
        "data.isna().sum()"
      ],
      "execution_count": 208,
      "outputs": [
        {
          "output_type": "execute_result",
          "data": {
            "text/plain": [
              "App               0\n",
              "Category          0\n",
              "Rating            0\n",
              "Reviews           0\n",
              "Size              0\n",
              "Installs          0\n",
              "Type              1\n",
              "Price             0\n",
              "Content Rating    0\n",
              "Genres            0\n",
              "Last Updated      0\n",
              "Current Ver       8\n",
              "Android Ver       2\n",
              "dtype: int64"
            ]
          },
          "metadata": {
            "tags": []
          },
          "execution_count": 208
        }
      ]
    },
    {
      "cell_type": "code",
      "metadata": {
        "id": "9RWlZcQtHtwi",
        "colab": {
          "base_uri": "https://localhost:8080/"
        },
        "outputId": "d50e1d86-da21-4abc-86e3-d49569ac3b6c"
      },
      "source": [
        "data['Type'].mode()"
      ],
      "execution_count": 209,
      "outputs": [
        {
          "output_type": "execute_result",
          "data": {
            "text/plain": [
              "0    Free\n",
              "dtype: object"
            ]
          },
          "metadata": {
            "tags": []
          },
          "execution_count": 209
        }
      ]
    },
    {
      "cell_type": "code",
      "metadata": {
        "id": "Uw-0fIuZHz3c",
        "colab": {
          "base_uri": "https://localhost:8080/"
        },
        "outputId": "5db8b1a2-3381-4375-89ac-10cc13276ff7"
      },
      "source": [
        "data['Current Ver'].mode()"
      ],
      "execution_count": 210,
      "outputs": [
        {
          "output_type": "execute_result",
          "data": {
            "text/plain": [
              "0    Varies with device\n",
              "dtype: object"
            ]
          },
          "metadata": {
            "tags": []
          },
          "execution_count": 210
        }
      ]
    },
    {
      "cell_type": "code",
      "metadata": {
        "id": "nA4K9qMNH8PM",
        "colab": {
          "base_uri": "https://localhost:8080/"
        },
        "outputId": "9fdef22f-4b95-4dd2-fb02-1324ce22b0e0"
      },
      "source": [
        "data['Android Ver'].mode()"
      ],
      "execution_count": 211,
      "outputs": [
        {
          "output_type": "execute_result",
          "data": {
            "text/plain": [
              "0    4.1 and up\n",
              "dtype: object"
            ]
          },
          "metadata": {
            "tags": []
          },
          "execution_count": 211
        }
      ]
    },
    {
      "cell_type": "code",
      "metadata": {
        "id": "ApcQZ7giIAM_"
      },
      "source": [
        "data['Type'].fillna(data['Type'].mode()[0],inplace=True)\n",
        "data['Current Ver'].fillna(data['Current Ver'].mode()[0],inplace=True)\n",
        "data['Android Ver'].fillna(data['Android Ver'].mode()[0],inplace=True)"
      ],
      "execution_count": 212,
      "outputs": []
    },
    {
      "cell_type": "code",
      "metadata": {
        "id": "grkjxmInIaDr",
        "colab": {
          "base_uri": "https://localhost:8080/"
        },
        "outputId": "d729034d-3a56-4ed7-8cd4-e7895e8430a4"
      },
      "source": [
        "data.isna().sum()"
      ],
      "execution_count": 213,
      "outputs": [
        {
          "output_type": "execute_result",
          "data": {
            "text/plain": [
              "App               0\n",
              "Category          0\n",
              "Rating            0\n",
              "Reviews           0\n",
              "Size              0\n",
              "Installs          0\n",
              "Type              0\n",
              "Price             0\n",
              "Content Rating    0\n",
              "Genres            0\n",
              "Last Updated      0\n",
              "Current Ver       0\n",
              "Android Ver       0\n",
              "dtype: int64"
            ]
          },
          "metadata": {
            "tags": []
          },
          "execution_count": 213
        }
      ]
    },
    {
      "cell_type": "code",
      "metadata": {
        "id": "_ns5sN_IInUu",
        "colab": {
          "base_uri": "https://localhost:8080/"
        },
        "outputId": "9e04026b-9ca8-4b49-e09a-910d8d456b7c"
      },
      "source": [
        "data.dtypes"
      ],
      "execution_count": 214,
      "outputs": [
        {
          "output_type": "execute_result",
          "data": {
            "text/plain": [
              "App                object\n",
              "Category           object\n",
              "Rating            float64\n",
              "Reviews            object\n",
              "Size               object\n",
              "Installs           object\n",
              "Type               object\n",
              "Price              object\n",
              "Content Rating     object\n",
              "Genres             object\n",
              "Last Updated       object\n",
              "Current Ver        object\n",
              "Android Ver        object\n",
              "dtype: object"
            ]
          },
          "metadata": {
            "tags": []
          },
          "execution_count": 214
        }
      ]
    },
    {
      "cell_type": "code",
      "metadata": {
        "id": "ujp1vuQhKkgF"
      },
      "source": [
        "### Let's convert Price, Reviews and Ratings into Numerical Values\n",
        "data['Price'] = data['Price'].apply(lambda x: str(x).replace('$', '') if '$' in str(x) else str(x))\n",
        "data['Price'] = data['Price'].apply(lambda x: float(x))\n",
        "data['Reviews'] = pd.to_numeric(data['Reviews'], errors='coerce')"
      ],
      "execution_count": 215,
      "outputs": []
    },
    {
      "cell_type": "code",
      "metadata": {
        "id": "7B_vuobYjHpv"
      },
      "source": [
        "data['Installs'] = data['Installs'].apply(lambda x: str(x).replace('+', '') if '+' in str(x) else str(x))\n",
        "data['Installs'] = data['Installs'].apply(lambda x: str(x).replace(',', '') if ',' in str(x) else str(x))\n",
        "data['Installs'] = data['Installs'].apply(lambda x: float(x))"
      ],
      "execution_count": 216,
      "outputs": []
    },
    {
      "cell_type": "code",
      "metadata": {
        "id": "VDXv0fSEiCxU",
        "colab": {
          "base_uri": "https://localhost:8080/"
        },
        "outputId": "c345387f-8e03-4d47-f191-2ea17d8c0a29"
      },
      "source": [
        "data.info()"
      ],
      "execution_count": 217,
      "outputs": [
        {
          "output_type": "stream",
          "text": [
            "<class 'pandas.core.frame.DataFrame'>\n",
            "Int64Index: 10840 entries, 0 to 10840\n",
            "Data columns (total 13 columns):\n",
            " #   Column          Non-Null Count  Dtype  \n",
            "---  ------          --------------  -----  \n",
            " 0   App             10840 non-null  object \n",
            " 1   Category        10840 non-null  object \n",
            " 2   Rating          10840 non-null  float64\n",
            " 3   Reviews         10840 non-null  int64  \n",
            " 4   Size            10840 non-null  object \n",
            " 5   Installs        10840 non-null  float64\n",
            " 6   Type            10840 non-null  object \n",
            " 7   Price           10840 non-null  float64\n",
            " 8   Content Rating  10840 non-null  object \n",
            " 9   Genres          10840 non-null  object \n",
            " 10  Last Updated    10840 non-null  object \n",
            " 11  Current Ver     10840 non-null  object \n",
            " 12  Android Ver     10840 non-null  object \n",
            "dtypes: float64(3), int64(1), object(9)\n",
            "memory usage: 1.2+ MB\n"
          ],
          "name": "stdout"
        }
      ]
    },
    {
      "cell_type": "code",
      "metadata": {
        "id": "5Qkh1pdwl6Ts",
        "colab": {
          "base_uri": "https://localhost:8080/",
          "height": 0
        },
        "outputId": "c42e5c01-3ae5-4b6c-e3bb-c2dbfd9b0f82"
      },
      "source": [
        "data.head()"
      ],
      "execution_count": 218,
      "outputs": [
        {
          "output_type": "execute_result",
          "data": {
            "text/html": [
              "<div>\n",
              "<style scoped>\n",
              "    .dataframe tbody tr th:only-of-type {\n",
              "        vertical-align: middle;\n",
              "    }\n",
              "\n",
              "    .dataframe tbody tr th {\n",
              "        vertical-align: top;\n",
              "    }\n",
              "\n",
              "    .dataframe thead th {\n",
              "        text-align: right;\n",
              "    }\n",
              "</style>\n",
              "<table border=\"1\" class=\"dataframe\">\n",
              "  <thead>\n",
              "    <tr style=\"text-align: right;\">\n",
              "      <th></th>\n",
              "      <th>App</th>\n",
              "      <th>Category</th>\n",
              "      <th>Rating</th>\n",
              "      <th>Reviews</th>\n",
              "      <th>Size</th>\n",
              "      <th>Installs</th>\n",
              "      <th>Type</th>\n",
              "      <th>Price</th>\n",
              "      <th>Content Rating</th>\n",
              "      <th>Genres</th>\n",
              "      <th>Last Updated</th>\n",
              "      <th>Current Ver</th>\n",
              "      <th>Android Ver</th>\n",
              "    </tr>\n",
              "  </thead>\n",
              "  <tbody>\n",
              "    <tr>\n",
              "      <th>0</th>\n",
              "      <td>Photo Editor &amp; Candy Camera &amp; Grid &amp; ScrapBook</td>\n",
              "      <td>ART_AND_DESIGN</td>\n",
              "      <td>4.1</td>\n",
              "      <td>159</td>\n",
              "      <td>19M</td>\n",
              "      <td>10000.0</td>\n",
              "      <td>Free</td>\n",
              "      <td>0.0</td>\n",
              "      <td>Everyone</td>\n",
              "      <td>Art &amp; Design</td>\n",
              "      <td>January 7, 2018</td>\n",
              "      <td>1.0.0</td>\n",
              "      <td>4.0.3 and up</td>\n",
              "    </tr>\n",
              "    <tr>\n",
              "      <th>1</th>\n",
              "      <td>Coloring book moana</td>\n",
              "      <td>ART_AND_DESIGN</td>\n",
              "      <td>3.9</td>\n",
              "      <td>967</td>\n",
              "      <td>14M</td>\n",
              "      <td>500000.0</td>\n",
              "      <td>Free</td>\n",
              "      <td>0.0</td>\n",
              "      <td>Everyone</td>\n",
              "      <td>Art &amp; Design;Pretend Play</td>\n",
              "      <td>January 15, 2018</td>\n",
              "      <td>2.0.0</td>\n",
              "      <td>4.0.3 and up</td>\n",
              "    </tr>\n",
              "    <tr>\n",
              "      <th>2</th>\n",
              "      <td>U Launcher Lite – FREE Live Cool Themes, Hide ...</td>\n",
              "      <td>ART_AND_DESIGN</td>\n",
              "      <td>4.7</td>\n",
              "      <td>87510</td>\n",
              "      <td>8.7M</td>\n",
              "      <td>5000000.0</td>\n",
              "      <td>Free</td>\n",
              "      <td>0.0</td>\n",
              "      <td>Everyone</td>\n",
              "      <td>Art &amp; Design</td>\n",
              "      <td>August 1, 2018</td>\n",
              "      <td>1.2.4</td>\n",
              "      <td>4.0.3 and up</td>\n",
              "    </tr>\n",
              "    <tr>\n",
              "      <th>3</th>\n",
              "      <td>Sketch - Draw &amp; Paint</td>\n",
              "      <td>ART_AND_DESIGN</td>\n",
              "      <td>4.5</td>\n",
              "      <td>215644</td>\n",
              "      <td>25M</td>\n",
              "      <td>50000000.0</td>\n",
              "      <td>Free</td>\n",
              "      <td>0.0</td>\n",
              "      <td>Teen</td>\n",
              "      <td>Art &amp; Design</td>\n",
              "      <td>June 8, 2018</td>\n",
              "      <td>Varies with device</td>\n",
              "      <td>4.2 and up</td>\n",
              "    </tr>\n",
              "    <tr>\n",
              "      <th>4</th>\n",
              "      <td>Pixel Draw - Number Art Coloring Book</td>\n",
              "      <td>ART_AND_DESIGN</td>\n",
              "      <td>4.3</td>\n",
              "      <td>967</td>\n",
              "      <td>2.8M</td>\n",
              "      <td>100000.0</td>\n",
              "      <td>Free</td>\n",
              "      <td>0.0</td>\n",
              "      <td>Everyone</td>\n",
              "      <td>Art &amp; Design;Creativity</td>\n",
              "      <td>June 20, 2018</td>\n",
              "      <td>1.1</td>\n",
              "      <td>4.4 and up</td>\n",
              "    </tr>\n",
              "  </tbody>\n",
              "</table>\n",
              "</div>"
            ],
            "text/plain": [
              "                                                 App  ...   Android Ver\n",
              "0     Photo Editor & Candy Camera & Grid & ScrapBook  ...  4.0.3 and up\n",
              "1                                Coloring book moana  ...  4.0.3 and up\n",
              "2  U Launcher Lite – FREE Live Cool Themes, Hide ...  ...  4.0.3 and up\n",
              "3                              Sketch - Draw & Paint  ...    4.2 and up\n",
              "4              Pixel Draw - Number Art Coloring Book  ...    4.4 and up\n",
              "\n",
              "[5 rows x 13 columns]"
            ]
          },
          "metadata": {
            "tags": []
          },
          "execution_count": 218
        }
      ]
    },
    {
      "cell_type": "code",
      "metadata": {
        "id": "sgLz_yX8mHXs",
        "colab": {
          "base_uri": "https://localhost:8080/",
          "height": 0
        },
        "outputId": "756ab4a6-8df7-454b-e061-d6d74fc37a4c"
      },
      "source": [
        "data.describe()"
      ],
      "execution_count": 219,
      "outputs": [
        {
          "output_type": "execute_result",
          "data": {
            "text/html": [
              "<div>\n",
              "<style scoped>\n",
              "    .dataframe tbody tr th:only-of-type {\n",
              "        vertical-align: middle;\n",
              "    }\n",
              "\n",
              "    .dataframe tbody tr th {\n",
              "        vertical-align: top;\n",
              "    }\n",
              "\n",
              "    .dataframe thead th {\n",
              "        text-align: right;\n",
              "    }\n",
              "</style>\n",
              "<table border=\"1\" class=\"dataframe\">\n",
              "  <thead>\n",
              "    <tr style=\"text-align: right;\">\n",
              "      <th></th>\n",
              "      <th>Rating</th>\n",
              "      <th>Reviews</th>\n",
              "      <th>Installs</th>\n",
              "      <th>Price</th>\n",
              "    </tr>\n",
              "  </thead>\n",
              "  <tbody>\n",
              "    <tr>\n",
              "      <th>count</th>\n",
              "      <td>10840.000000</td>\n",
              "      <td>1.084000e+04</td>\n",
              "      <td>1.084000e+04</td>\n",
              "      <td>10840.000000</td>\n",
              "    </tr>\n",
              "    <tr>\n",
              "      <th>mean</th>\n",
              "      <td>4.206476</td>\n",
              "      <td>4.441529e+05</td>\n",
              "      <td>1.546434e+07</td>\n",
              "      <td>1.027368</td>\n",
              "    </tr>\n",
              "    <tr>\n",
              "      <th>std</th>\n",
              "      <td>0.480342</td>\n",
              "      <td>2.927761e+06</td>\n",
              "      <td>8.502936e+07</td>\n",
              "      <td>15.949703</td>\n",
              "    </tr>\n",
              "    <tr>\n",
              "      <th>min</th>\n",
              "      <td>1.000000</td>\n",
              "      <td>0.000000e+00</td>\n",
              "      <td>0.000000e+00</td>\n",
              "      <td>0.000000</td>\n",
              "    </tr>\n",
              "    <tr>\n",
              "      <th>25%</th>\n",
              "      <td>4.100000</td>\n",
              "      <td>3.800000e+01</td>\n",
              "      <td>1.000000e+03</td>\n",
              "      <td>0.000000</td>\n",
              "    </tr>\n",
              "    <tr>\n",
              "      <th>50%</th>\n",
              "      <td>4.300000</td>\n",
              "      <td>2.094000e+03</td>\n",
              "      <td>1.000000e+05</td>\n",
              "      <td>0.000000</td>\n",
              "    </tr>\n",
              "    <tr>\n",
              "      <th>75%</th>\n",
              "      <td>4.500000</td>\n",
              "      <td>5.477550e+04</td>\n",
              "      <td>5.000000e+06</td>\n",
              "      <td>0.000000</td>\n",
              "    </tr>\n",
              "    <tr>\n",
              "      <th>max</th>\n",
              "      <td>5.000000</td>\n",
              "      <td>7.815831e+07</td>\n",
              "      <td>1.000000e+09</td>\n",
              "      <td>400.000000</td>\n",
              "    </tr>\n",
              "  </tbody>\n",
              "</table>\n",
              "</div>"
            ],
            "text/plain": [
              "             Rating       Reviews      Installs         Price\n",
              "count  10840.000000  1.084000e+04  1.084000e+04  10840.000000\n",
              "mean       4.206476  4.441529e+05  1.546434e+07      1.027368\n",
              "std        0.480342  2.927761e+06  8.502936e+07     15.949703\n",
              "min        1.000000  0.000000e+00  0.000000e+00      0.000000\n",
              "25%        4.100000  3.800000e+01  1.000000e+03      0.000000\n",
              "50%        4.300000  2.094000e+03  1.000000e+05      0.000000\n",
              "75%        4.500000  5.477550e+04  5.000000e+06      0.000000\n",
              "max        5.000000  7.815831e+07  1.000000e+09    400.000000"
            ]
          },
          "metadata": {
            "tags": []
          },
          "execution_count": 219
        }
      ]
    },
    {
      "cell_type": "code",
      "metadata": {
        "id": "q611mPpzqxBI",
        "colab": {
          "base_uri": "https://localhost:8080/"
        },
        "outputId": "fb8c1e6c-3f98-42d7-e34a-bd08ffd797c6"
      },
      "source": [
        "data['Category'].unique()"
      ],
      "execution_count": 220,
      "outputs": [
        {
          "output_type": "execute_result",
          "data": {
            "text/plain": [
              "array(['ART_AND_DESIGN', 'AUTO_AND_VEHICLES', 'BEAUTY',\n",
              "       'BOOKS_AND_REFERENCE', 'BUSINESS', 'COMICS', 'COMMUNICATION',\n",
              "       'DATING', 'EDUCATION', 'ENTERTAINMENT', 'EVENTS', 'FINANCE',\n",
              "       'FOOD_AND_DRINK', 'HEALTH_AND_FITNESS', 'HOUSE_AND_HOME',\n",
              "       'LIBRARIES_AND_DEMO', 'LIFESTYLE', 'GAME', 'FAMILY', 'MEDICAL',\n",
              "       'SOCIAL', 'SHOPPING', 'PHOTOGRAPHY', 'SPORTS', 'TRAVEL_AND_LOCAL',\n",
              "       'TOOLS', 'PERSONALIZATION', 'PRODUCTIVITY', 'PARENTING', 'WEATHER',\n",
              "       'VIDEO_PLAYERS', 'NEWS_AND_MAGAZINES', 'MAPS_AND_NAVIGATION'],\n",
              "      dtype=object)"
            ]
          },
          "metadata": {
            "tags": []
          },
          "execution_count": 220
        }
      ]
    },
    {
      "cell_type": "markdown",
      "metadata": {
        "id": "uk9c_cjClqbi"
      },
      "source": [
        "###**Data Visualization**"
      ]
    },
    {
      "cell_type": "code",
      "metadata": {
        "id": "oved92l4mtoM",
        "colab": {
          "base_uri": "https://localhost:8080/",
          "height": 0
        },
        "outputId": "90dd6cc2-77cc-4cbe-beac-d702470a460e"
      },
      "source": [
        "sns.heatmap(data.corr())"
      ],
      "execution_count": 221,
      "outputs": [
        {
          "output_type": "execute_result",
          "data": {
            "text/plain": [
              "<matplotlib.axes._subplots.AxesSubplot at 0x7fd557bdaf50>"
            ]
          },
          "metadata": {
            "tags": []
          },
          "execution_count": 221
        },
        {
          "output_type": "display_data",
          "data": {
            "image/png": "[encoded data removed]",
            "text/plain": [
              "<Figure size 432x288 with 2 Axes>"
            ]
          },
          "metadata": {
            "tags": [],
            "needs_background": "light"
          }
        }
      ]
    },
    {
      "cell_type": "code",
      "metadata": {
        "id": "ymc8dxObyjM5",
        "colab": {
          "base_uri": "https://localhost:8080/"
        },
        "outputId": "d4b7e5c1-8269-4bb8-f817-609818ac9ded"
      },
      "source": [
        "grp =  data.groupby('Category')\n",
        "x = grp['Rating'].agg(np.mean)\n",
        "y = grp['Price'].agg(np.sum)\n",
        "z = grp['Reviews'].agg(np.mean)\n",
        "print(x)\n",
        "print(y)\n",
        "print(z)"
      ],
      "execution_count": 222,
      "outputs": [
        {
          "output_type": "stream",
          "text": [
            "Category\n",
            "ART_AND_DESIGN         4.355385\n",
            "AUTO_AND_VEHICLES      4.205882\n",
            "BEAUTY                 4.283019\n",
            "BOOKS_AND_REFERENCE    4.335498\n",
            "BUSINESS               4.182391\n",
            "COMICS                 4.160000\n",
            "COMMUNICATION          4.180103\n",
            "DATING                 4.025641\n",
            "EDUCATION              4.388462\n",
            "ENTERTAINMENT          4.126174\n",
            "EVENTS                 4.395313\n",
            "FAMILY                 4.204564\n",
            "FINANCE                4.151639\n",
            "FOOD_AND_DRINK         4.185827\n",
            "GAME                   4.286888\n",
            "HEALTH_AND_FITNESS     4.280059\n",
            "HOUSE_AND_HOME         4.211364\n",
            "LIBRARIES_AND_DEMO     4.207059\n",
            "LIFESTYLE              4.131414\n",
            "MAPS_AND_NAVIGATION    4.075182\n",
            "MEDICAL                4.216199\n",
            "NEWS_AND_MAGAZINES     4.161837\n",
            "PARENTING              4.300000\n",
            "PERSONALIZATION        4.328827\n",
            "PHOTOGRAPHY            4.197910\n",
            "PRODUCTIVITY           4.226651\n",
            "SHOPPING               4.263077\n",
            "SOCIAL                 4.261017\n",
            "SPORTS                 4.236458\n",
            "TOOLS                  4.080071\n",
            "TRAVEL_AND_LOCAL       4.132946\n",
            "VIDEO_PLAYERS          4.084000\n",
            "WEATHER                4.248780\n",
            "Name: Rating, dtype: float64\n",
            "Category\n",
            "ART_AND_DESIGN            5.97\n",
            "AUTO_AND_VEHICLES        13.47\n",
            "BEAUTY                    0.00\n",
            "BOOKS_AND_REFERENCE     119.77\n",
            "BUSINESS                185.27\n",
            "COMICS                    0.00\n",
            "COMMUNICATION            83.14\n",
            "DATING                   31.43\n",
            "EDUCATION                17.96\n",
            "ENTERTAINMENT             7.98\n",
            "EVENTS                  109.99\n",
            "FAMILY                 2434.78\n",
            "FINANCE                2900.83\n",
            "FOOD_AND_DRINK            8.48\n",
            "GAME                    287.30\n",
            "HEALTH_AND_FITNESS       67.34\n",
            "HOUSE_AND_HOME            0.00\n",
            "LIBRARIES_AND_DEMO        0.99\n",
            "LIFESTYLE              2360.87\n",
            "MAPS_AND_NAVIGATION      26.95\n",
            "MEDICAL                1439.96\n",
            "NEWS_AND_MAGAZINES        3.98\n",
            "PARENTING                 9.58\n",
            "PERSONALIZATION         153.96\n",
            "PHOTOGRAPHY             134.21\n",
            "PRODUCTIVITY            250.93\n",
            "SHOPPING                  5.48\n",
            "SOCIAL                   15.97\n",
            "SPORTS                  100.00\n",
            "TOOLS                   267.25\n",
            "TRAVEL_AND_LOCAL         49.95\n",
            "VIDEO_PLAYERS            10.46\n",
            "WEATHER                  32.42\n",
            "Name: Price, dtype: float64\n",
            "Category\n",
            "ART_AND_DESIGN         2.637600e+04\n",
            "AUTO_AND_VEHICLES      1.369019e+04\n",
            "BEAUTY                 7.476226e+03\n",
            "BOOKS_AND_REFERENCE    9.506090e+04\n",
            "BUSINESS               3.033598e+04\n",
            "COMICS                 5.638793e+04\n",
            "COMMUNICATION          2.107138e+06\n",
            "DATING                 3.115931e+04\n",
            "EDUCATION              2.538191e+05\n",
            "ENTERTAINMENT          3.971688e+05\n",
            "EVENTS                 2.515906e+03\n",
            "FAMILY                 2.080255e+05\n",
            "FINANCE                4.795281e+04\n",
            "FOOD_AND_DRINK         6.994748e+04\n",
            "GAME                   1.385859e+06\n",
            "HEALTH_AND_FITNESS     1.111253e+05\n",
            "HOUSE_AND_HOME         4.518619e+04\n",
            "LIBRARIES_AND_DEMO     1.220139e+04\n",
            "LIFESTYLE              3.372457e+04\n",
            "MAPS_AND_NAVIGATION    2.237902e+05\n",
            "MEDICAL                3.425432e+03\n",
            "NEWS_AND_MAGAZINES     1.922292e+05\n",
            "PARENTING              1.597218e+04\n",
            "PERSONALIZATION        2.279238e+05\n",
            "PHOTOGRAPHY            6.373631e+05\n",
            "PRODUCTIVITY           2.691438e+05\n",
            "SHOPPING               4.424662e+05\n",
            "SOCIAL                 2.105903e+06\n",
            "SPORTS                 1.844536e+05\n",
            "TOOLS                  3.240629e+05\n",
            "TRAVEL_AND_LOCAL       2.427051e+05\n",
            "VIDEO_PLAYERS          6.307439e+05\n",
            "WEATHER                1.781065e+05\n",
            "Name: Reviews, dtype: float64\n"
          ],
          "name": "stdout"
        }
      ]
    },
    {
      "cell_type": "code",
      "metadata": {
        "id": "TJydf7wq0HlO",
        "colab": {
          "base_uri": "https://localhost:8080/",
          "height": 0
        },
        "outputId": "1af4ab9e-8d40-4031-db3a-86e79dd76998"
      },
      "source": [
        "plt.figure(figsize=(16,5))\n",
        "plt.plot(x,'ro', color='r')\n",
        "plt.xticks(rotation=90)\n",
        "plt.title('Category wise Rating')\n",
        "plt.xlabel('Categories-->')\n",
        "plt.ylabel('Rating-->')\n",
        "plt.grid()\n",
        "plt.show()\n"
      ],
      "execution_count": 223,
      "outputs": [
        {
          "output_type": "display_data",
          "data": {
            "image/png": "[encoded data removed]",
            "text/plain": [
              "<Figure size 1152x360 with 1 Axes>"
            ]
          },
          "metadata": {
            "tags": [],
            "needs_background": "light"
          }
        }
      ]
    },
    {
      "cell_type": "markdown",
      "metadata": {
        "id": "Ad31x7MU7G7C"
      },
      "source": [
        "####Conclusion:\n",
        "> Event category has the maximum rating of 4.40\n",
        "Hence Event category is the most popular among the other categories\n",
        "\n",
        "\n"
      ]
    },
    {
      "cell_type": "code",
      "metadata": {
        "id": "pnalB6p27BPo",
        "colab": {
          "base_uri": "https://localhost:8080/",
          "height": 0
        },
        "outputId": "3eeccc31-e7a2-4fbc-f9e1-4c11a7471494"
      },
      "source": [
        "plt.figure(figsize=(16,5))\n",
        "plt.plot(y,'o', color='b')\n",
        "plt.xticks(rotation=90)\n",
        "plt.title('Category wise Pricing')\n",
        "plt.xlabel('Categories-->')\n",
        "plt.ylabel('Prices-->')\n",
        "plt.grid()\n",
        "plt.show()"
      ],
      "execution_count": 224,
      "outputs": [
        {
          "output_type": "display_data",
          "data": {
            "image/png": "[encoded data removed]",
            "text/plain": [
              "<Figure size 1152x360 with 1 Axes>"
            ]
          },
          "metadata": {
            "tags": [],
            "needs_background": "light"
          }
        }
      ]
    },
    {
      "cell_type": "markdown",
      "metadata": {
        "id": "VAvKfiQu9zri"
      },
      "source": [
        "####Conclusion\n",
        "\n",
        "> Finance has the most price in terms of 'Category'\n",
        "\n",
        "\n",
        "\n"
      ]
    },
    {
      "cell_type": "code",
      "metadata": {
        "id": "TFlICDh79ueR",
        "colab": {
          "base_uri": "https://localhost:8080/",
          "height": 0
        },
        "outputId": "4263a2ab-7565-40f6-e52e-b63478ff869c"
      },
      "source": [
        "plt.figure(figsize=(16,5))\n",
        "plt.plot(z,'o', color='g')\n",
        "plt.xticks(rotation=90)\n",
        "plt.title('Category wise Reviews')\n",
        "plt.xlabel('Categories-->')\n",
        "plt.ylabel('Reviews-->')\n",
        "plt.grid()\n",
        "plt.show()"
      ],
      "execution_count": 225,
      "outputs": [
        {
          "output_type": "display_data",
          "data": {
            "image/png": "[encoded data removed]",
            "text/plain": [
              "<Figure size 1152x360 with 1 Axes>"
            ]
          },
          "metadata": {
            "tags": [],
            "needs_background": "light"
          }
        }
      ]
    },
    {
      "cell_type": "markdown",
      "metadata": {
        "id": "efHlH84RpPHo"
      },
      "source": [
        "####Conclusion:\n",
        "\n",
        "> Categories like 'Social' and 'Communication' has the most number of reviews\n",
        "\n"
      ]
    },
    {
      "cell_type": "markdown",
      "metadata": {
        "id": "pH7N-WSGOHNq"
      },
      "source": [
        "###**Tasks:**"
      ]
    },
    {
      "cell_type": "markdown",
      "metadata": {
        "id": "BMsyXvxOzZaO"
      },
      "source": [
        "####Task 1 :To find App with large number of reviews"
      ]
    },
    {
      "cell_type": "code",
      "metadata": {
        "id": "_lMNJhWKzgmm",
        "colab": {
          "base_uri": "https://localhost:8080/",
          "height": 0
        },
        "outputId": "6a66e935-4642-4026-d8cf-65b8e1b7e7bb"
      },
      "source": [
        "r=data.sort_values('Reviews',ascending=False)\n",
        "r['App'].iloc[0]"
      ],
      "execution_count": 226,
      "outputs": [
        {
          "output_type": "execute_result",
          "data": {
            "application/vnd.google.colaboratory.intrinsic+json": {
              "type": "string"
            },
            "text/plain": [
              "'Facebook'"
            ]
          },
          "metadata": {
            "tags": []
          },
          "execution_count": 226
        }
      ]
    },
    {
      "cell_type": "code",
      "metadata": {
        "id": "tQ8JgCe1JEcA"
      },
      "source": [
        "data_mod=r.head(20)"
      ],
      "execution_count": 227,
      "outputs": []
    },
    {
      "cell_type": "code",
      "metadata": {
        "id": "AgnUCFKq1a0Z",
        "colab": {
          "base_uri": "https://localhost:8080/"
        },
        "outputId": "df78a6f1-4a66-4a2b-8007-cc523da7736c"
      },
      "source": [
        "data_mod.columns"
      ],
      "execution_count": 228,
      "outputs": [
        {
          "output_type": "execute_result",
          "data": {
            "text/plain": [
              "Index(['App', 'Category', 'Rating', 'Reviews', 'Size', 'Installs', 'Type',\n",
              "       'Price', 'Content Rating', 'Genres', 'Last Updated', 'Current Ver',\n",
              "       'Android Ver'],\n",
              "      dtype='object')"
            ]
          },
          "metadata": {
            "tags": []
          },
          "execution_count": 228
        }
      ]
    },
    {
      "cell_type": "code",
      "metadata": {
        "id": "Qz7002sH2RyZ",
        "colab": {
          "base_uri": "https://localhost:8080/",
          "height": 0
        },
        "outputId": "0b2567c4-85fe-4da2-caff-63e2fc0d6cd5"
      },
      "source": [
        "sns.lineplot(x='App',y='Reviews',data=data_mod)\n",
        "plt.xticks(rotation=90)"
      ],
      "execution_count": 229,
      "outputs": [
        {
          "output_type": "execute_result",
          "data": {
            "text/plain": [
              "([0, 1, 2, 3, 4, 5, 6], <a list of 7 Text major ticklabel objects>)"
            ]
          },
          "metadata": {
            "tags": []
          },
          "execution_count": 229
        },
        {
          "output_type": "display_data",
          "data": {
            "image/png": "[encoded data removed]",
            "text/plain": [
              "<Figure size 432x288 with 1 Axes>"
            ]
          },
          "metadata": {
            "tags": [],
            "needs_background": "light"
          }
        }
      ]
    },
    {
      "cell_type": "markdown",
      "metadata": {
        "id": "T-SDZLaD3_Jw"
      },
      "source": [
        "####Hence we observe graphically that the app with the highest reviews is 'Facebook'"
      ]
    },
    {
      "cell_type": "markdown",
      "metadata": {
        "id": "zH0GITlP79Jk"
      },
      "source": [
        "####Task 2 : To find the App with the largest number of installs"
      ]
    },
    {
      "cell_type": "code",
      "metadata": {
        "id": "aPPB7TcH2b8B",
        "colab": {
          "base_uri": "https://localhost:8080/"
        },
        "outputId": "dba644c5-8097-4c0b-d0d4-c049f3c07dc0"
      },
      "source": [
        "data.columns"
      ],
      "execution_count": 230,
      "outputs": [
        {
          "output_type": "execute_result",
          "data": {
            "text/plain": [
              "Index(['App', 'Category', 'Rating', 'Reviews', 'Size', 'Installs', 'Type',\n",
              "       'Price', 'Content Rating', 'Genres', 'Last Updated', 'Current Ver',\n",
              "       'Android Ver'],\n",
              "      dtype='object')"
            ]
          },
          "metadata": {
            "tags": []
          },
          "execution_count": 230
        }
      ]
    },
    {
      "cell_type": "code",
      "metadata": {
        "id": "uA9CwYo88IRu",
        "colab": {
          "base_uri": "https://localhost:8080/",
          "height": 35
        },
        "outputId": "219225d8-68a2-4871-9293-4d294d5fb1cb"
      },
      "source": [
        "data_highestinstalls=data.sort_values('Installs',ascending=False).head(10)\n",
        "data_highestinstalls.iloc[0]['App']\n"
      ],
      "execution_count": 231,
      "outputs": [
        {
          "output_type": "execute_result",
          "data": {
            "application/vnd.google.colaboratory.intrinsic+json": {
              "type": "string"
            },
            "text/plain": [
              "'Subway Surfers'"
            ]
          },
          "metadata": {
            "tags": []
          },
          "execution_count": 231
        }
      ]
    },
    {
      "cell_type": "markdown",
      "metadata": {
        "id": "Mm5GHcX9Kvuf"
      },
      "source": [
        "#####'Subway Surfers' has the largest number of installs"
      ]
    },
    {
      "cell_type": "markdown",
      "metadata": {
        "id": "ONJfxrkglhg4"
      },
      "source": [
        "####Task 3 : To find the most popular category"
      ]
    },
    {
      "cell_type": "code",
      "metadata": {
        "id": "4rvmV7r_Moiq",
        "colab": {
          "base_uri": "https://localhost:8080/",
          "height": 723
        },
        "outputId": "8039f216-4bdd-431b-98bd-43817ac1c77b"
      },
      "source": [
        "data.loc[data['Size'] == 'Varies with device'].shape\n",
        "unwanted = data.loc[data['Size'] == 'Varies with device']\n",
        "unwanted.shape\n",
        "data.drop(unwanted.index,inplace = True)\n",
        "\n",
        "#Remove them inorder to convert the size column to numerics\n",
        "data['Size'] = data['Size'].apply(lambda x: str(x).replace('M',''))\n",
        "data['Size'] = data['Size'].apply(lambda x: str(x).replace('k',''))\n",
        "data['Size'] = data['Size'].apply(lambda x: str(x).replace('+',''))\n",
        "\n",
        "#Converting Size column to numerics\n",
        "data['Size'] = pd.to_numeric(data['Size'],errors='coerce')\n",
        "res = data.groupby('Category')['Size'].sum().reset_index()\n",
        "finaldata = res.sort_values('Size', ascending=False).reset_index(drop=True)\n",
        "\n",
        "ind = finaldata.set_index(\"Category\", inplace = True)\n",
        "bar = finaldata.plot(kind='bar',figsize=(25, 13), color = \"blue\")\n",
        "plt.xlabel(\"Category\", fontsize = 10)\n",
        "plt.ylabel(\"Size\", fontsize = 10)"
      ],
      "execution_count": 232,
      "outputs": [
        {
          "output_type": "execute_result",
          "data": {
            "text/plain": [
              "Text(0, 0.5, 'Size')"
            ]
          },
          "metadata": {
            "tags": []
          },
          "execution_count": 232
        },
        {
          "output_type": "display_data",
          "data": {
            "image/png": "[encoded data removed]",
            "text/plain": [
              "<Figure size 1800x936 with 1 Axes>"
            ]
          },
          "metadata": {
            "tags": [],
            "needs_background": "light"
          }
        }
      ]
    },
    {
      "cell_type": "markdown",
      "metadata": {
        "id": "OIRjxQIQNvv9"
      },
      "source": [
        "#### Family is the most popular category of all the other options\n"
      ]
    },
    {
      "cell_type": "markdown",
      "metadata": {
        "id": "B27HqnhCPipG"
      },
      "source": [
        "####Task 4 : To visualize the percentage of Free Vs Paid apps"
      ]
    },
    {
      "cell_type": "code",
      "metadata": {
        "id": "bw-dLXebQKPC",
        "colab": {
          "base_uri": "https://localhost:8080/",
          "height": 303
        },
        "outputId": "7ba4f885-b992-4dbe-a9b1-44d7cf6e48fb"
      },
      "source": [
        "plt.figure(figsize=(5,5))\n",
        "data['Type'].value_counts().plot(kind='pie',autopct='%1.1f%%')\n",
        "plt.legend()\n",
        "plt.show()"
      ],
      "execution_count": 233,
      "outputs": [
        {
          "output_type": "display_data",
          "data": {
            "image/png": "[encoded data removed]",
            "text/plain": [
              "<Figure size 360x360 with 1 Axes>"
            ]
          },
          "metadata": {
            "tags": []
          }
        }
      ]
    },
    {
      "cell_type": "code",
      "metadata": {
        "id": "uvh5uSXSQfxH",
        "colab": {
          "base_uri": "https://localhost:8080/",
          "height": 290
        },
        "outputId": "ab7fb727-b35f-4170-91dc-e21eb2b1f1e2"
      },
      "source": [
        "data['Type'].value_counts().plot(kind='bar')\n",
        "plt.grid()\n",
        "plt.xlabel(\"Type of Apps Paid or Free\")\n",
        "plt.ylabel(\"No of Apps\")\n",
        "plt.show()"
      ],
      "execution_count": 234,
      "outputs": [
        {
          "output_type": "display_data",
          "data": {
            "image/png": "[encoded data removed]",
            "text/plain": [
              "<Figure size 432x288 with 1 Axes>"
            ]
          },
          "metadata": {
            "tags": [],
            "needs_background": "light"
          }
        }
      ]
    },
    {
      "cell_type": "markdown",
      "metadata": {
        "id": "lRMMtXkrRNOI"
      },
      "source": [
        "####Conclusion:\n",
        "\n",
        "> People are more attracted to Free Apps rather than Paid apps\n",
        "\n",
        "\n"
      ]
    },
    {
      "cell_type": "code",
      "metadata": {
        "id": "50FSnZdvRJxH"
      },
      "source": [
        ""
      ],
      "execution_count": 234,
      "outputs": []
    },
    {
      "cell_type": "markdown",
      "metadata": {
        "id": "i_r-yl_jRsxJ"
      },
      "source": [
        "####Task 5 : Visualisation Of Android Versions Used Across App"
      ]
    },
    {
      "cell_type": "code",
      "metadata": {
        "id": "R9SvOhaLR6hm",
        "colab": {
          "base_uri": "https://localhost:8080/",
          "height": 411
        },
        "outputId": "6dd08586-06e8-4b12-8577-76c739e8d263"
      },
      "source": [
        "plt.figure(figsize = (15,7))\n",
        "data['Android Ver'].value_counts().plot(kind= 'pie')\n",
        "plt.show()"
      ],
      "execution_count": 235,
      "outputs": [
        {
          "output_type": "display_data",
          "data": {
            "image/png": "[encoded data removed]",
            "text/plain": [
              "<Figure size 1080x504 with 1 Axes>"
            ]
          },
          "metadata": {
            "tags": []
          }
        }
      ]
    },
    {
      "cell_type": "markdown",
      "metadata": {
        "id": "ipEbXGFzSirM"
      },
      "source": [
        "##Thank you!\n",
        "\n"
      ]
    }
  ]
}